{
 "cells": [
  {
   "cell_type": "code",
   "execution_count": 198,
   "id": "c098693a",
   "metadata": {},
   "outputs": [],
   "source": [
    "import pandas as pd\n",
    "import numpy as np\n",
    "import requests\n",
    "from sklearn.neighbors import KDTree, BallTree\n",
    "from tqdm import tqdm"
   ]
  },
  {
   "cell_type": "markdown",
   "id": "be4cb31e",
   "metadata": {},
   "source": [
    "## Data Loading"
   ]
  },
  {
   "cell_type": "code",
   "execution_count": 163,
   "id": "7d072655",
   "metadata": {
    "scrolled": false
   },
   "outputs": [
    {
     "name": "stdout",
     "output_type": "stream",
     "text": [
      "<class 'pandas.core.frame.DataFrame'>\n",
      "RangeIndex: 28686 entries, 0 to 28685\n",
      "Data columns (total 3 columns):\n",
      " #   Column     Non-Null Count  Dtype  \n",
      "---  ------     --------------  -----  \n",
      " 0   NTL_value  28686 non-null  float64\n",
      " 1   xcoord     28686 non-null  float64\n",
      " 2   ycoord     28686 non-null  float64\n",
      "dtypes: float64(3)\n",
      "memory usage: 672.5 KB\n",
      "\n",
      "<class 'pandas.core.frame.DataFrame'>\n",
      "RangeIndex: 4477 entries, 0 to 4476\n",
      "Data columns (total 10 columns):\n",
      " #   Column     Non-Null Count  Dtype  \n",
      "---  ------     --------------  -----  \n",
      " 0   No.        4477 non-null   int64  \n",
      " 1   Name       4477 non-null   object \n",
      " 2   Webpage    4477 non-null   object \n",
      " 3   Address    4477 non-null   object \n",
      " 4   Brand      4477 non-null   object \n",
      " 5   Num_of_DC  4477 non-null   int64  \n",
      " 6   Num_of_AC  4477 non-null   int64  \n",
      " 7   Type       4477 non-null   object \n",
      " 8   lng        4477 non-null   float64\n",
      " 9   lat        4477 non-null   float64\n",
      "dtypes: float64(2), int64(3), object(5)\n",
      "memory usage: 349.9+ KB\n"
     ]
    }
   ],
   "source": [
    "pop = pd.read_csv('population_points.csv')\n",
    "charging_station = pd.read_csv('public charging station.csv')\n",
    "pop.info()\n",
    "print()\n",
    "charging_station.info()"
   ]
  },
  {
   "cell_type": "markdown",
   "id": "045ddfe9",
   "metadata": {},
   "source": [
    "## AutoNavi Map API"
   ]
  },
  {
   "cell_type": "code",
   "execution_count": 8,
   "id": "f01b77be",
   "metadata": {},
   "outputs": [],
   "source": [
    "API_KEY = 'db724554305fa4a8a31ab450cc6657ed'"
   ]
  },
  {
   "cell_type": "code",
   "execution_count": 279,
   "id": "72cda042",
   "metadata": {},
   "outputs": [],
   "source": [
    "def get_driving_distance(origins, destination, API_KEY):\n",
    "    url = 'https://restapi.amap.com/v3/distance?'\n",
    "    \n",
    "    #Param origin\n",
    "    origin_str = []\n",
    "    for tp in origins:\n",
    "        origin_str.append(f'{tp[0]},{tp[1]}')\n",
    "    origin_str = 'origins=' + '|'.join(origin_str)\n",
    "    \n",
    "    #Param destination\n",
    "    dest_str = f'destination={destination[0]},{destination[1]}'\n",
    "    \n",
    "    #Param type('1' indicates calculating driving distance)\n",
    "    type_str = 'type=1'\n",
    "    \n",
    "    #Param key\n",
    "    key_str = f'key={API_KEY}'\n",
    "    \n",
    "    url = '&'.join([url, origin_str, dest_str, type_str, key_str])\n",
    "#     print(url)\n",
    "    \n",
    "    ret = requests.get(url)\n",
    "    \n",
    "    if ret.status_code == 200:\n",
    "        response = ret.json()\n",
    "        if response['status'] == '0':\n",
    "            return False, response['info']\n",
    "        else:\n",
    "            try:\n",
    "                return True, response['results'] # returns a list of json data\n",
    "            except KeyError:\n",
    "                print(response)\n",
    "    else:\n",
    "        print('404, Please check what happened.')\n",
    "        return False, url"
   ]
  },
  {
   "cell_type": "code",
   "execution_count": 115,
   "id": "f52840f7",
   "metadata": {},
   "outputs": [],
   "source": [
    "status, dist = get_driving_distance([(121.48134674,31.21772284)],(121.4760268,31.23207944), API_KEY)"
   ]
  },
  {
   "cell_type": "code",
   "execution_count": 116,
   "id": "179de03d",
   "metadata": {},
   "outputs": [
    {
     "data": {
      "text/plain": [
       "[{'origin_id': '1', 'dest_id': '1', 'distance': '2136', 'duration': '534'}]"
      ]
     },
     "execution_count": 116,
     "metadata": {},
     "output_type": "execute_result"
    }
   ],
   "source": [
    "dist"
   ]
  },
  {
   "cell_type": "markdown",
   "id": "8d8f2315",
   "metadata": {},
   "source": [
    "## Finding CS-Pop pairs and Create mappings\n",
    "\n",
    "For each charging station, we need to construct a mapping from charging_station_id to a list of population point ids. The corresponding population points of a certain charging station should lie within a d-km circle. This reduces unnecessary API requests."
   ]
  },
  {
   "cell_type": "code",
   "execution_count": 374,
   "id": "2ae1564d",
   "metadata": {},
   "outputs": [],
   "source": [
    "THRESHOLD = 2000 # meters\n",
    "EARTH_RADIUS = 6371000"
   ]
  },
  {
   "cell_type": "code",
   "execution_count": 304,
   "id": "2376e093",
   "metadata": {},
   "outputs": [],
   "source": [
    "# Creating ball tree for near neighbors\n",
    "pop_array = pop[['ycoord','xcoord']].values * np.pi / 180\n",
    "bTree = BallTree(pop_array, leaf_size=30000, metric='haversine')"
   ]
  },
  {
   "cell_type": "code",
   "execution_count": 305,
   "id": "cd2687fd",
   "metadata": {},
   "outputs": [],
   "source": [
    "# Creating mapping from charging station to population points\n",
    "\n",
    "cs_coords_rad = charging_station[['lat','lng']].values * np.pi / 180\n",
    "\n",
    "cs2pop = {}\n",
    "for i in range(charging_station.shape[0]):\n",
    "    cs2pop[i] = []\n",
    "    \n",
    "for id_, pair in enumerate(cs_coords_rad):\n",
    "    id_array = bTree.query_radius(pair.reshape(1,-1), r=THRESHOLD/6371000)[0].tolist()\n",
    "    cs2pop[id_] = id_array"
   ]
  },
  {
   "cell_type": "code",
   "execution_count": 306,
   "id": "ce30b909",
   "metadata": {},
   "outputs": [],
   "source": [
    "# Inversely, create mapping from population points to charging stations\n",
    "pop2cs = {}\n",
    "for i in range(pop.shape[0]):\n",
    "    pop2cs[i] = []\n",
    "\n",
    "for cs_id, pop_id_list in cs2pop.items():\n",
    "    for pop_id in pop_id_list:\n",
    "        pop2cs[pop_id].append(cs_id)"
   ]
  },
  {
   "cell_type": "markdown",
   "id": "a351010b",
   "metadata": {},
   "source": [
    "## Improved Gravity Model\n",
    "\n",
    "$$A_i = \\sum_{j=1}^{n}\\frac{M_j}{D_{ij}^\\theta V_j}$$\n",
    "$$V_j = \\sum_{i=1}^{m}\\frac{P_i}{D_{ij}^\\gamma}$$\n",
    "$$M_j = \\alpha AC_j + \\beta DC_j$$"
   ]
  },
  {
   "cell_type": "markdown",
   "id": "8423d915",
   "metadata": {},
   "source": [
    "### Precomputing the distance pairs using AutoNavi Map API"
   ]
  },
  {
   "cell_type": "code",
   "execution_count": 307,
   "id": "52436125",
   "metadata": {},
   "outputs": [],
   "source": [
    "cs_coords = charging_station[['lng','lat']].values\n",
    "pop_coords = pop[['xcoord','ycoord']].values"
   ]
  },
  {
   "cell_type": "code",
   "execution_count": 310,
   "id": "76aef31b",
   "metadata": {},
   "outputs": [
    {
     "name": "stdout",
     "output_type": "stream",
     "text": [
      "1033320\n",
      "230.80634353361626\n",
      "240\n",
      "100\n"
     ]
    }
   ],
   "source": [
    "sum_ = 0\n",
    "dist_list = []\n",
    "for id, lst in cs2pop.items():\n",
    "    sum_ += len(lst)\n",
    "    dist_list.append(len(lst))\n",
    "print(sum_)\n",
    "print(sum_/len(cs2pop))\n",
    "print(max(dist_list))\n",
    "print(min(dist_list))"
   ]
  },
  {
   "cell_type": "code",
   "execution_count": 309,
   "id": "9a8b3e91",
   "metadata": {},
   "outputs": [
    {
     "name": "stdout",
     "output_type": "stream",
     "text": [
      "1033320\n",
      "36.02175277138674\n"
     ]
    }
   ],
   "source": [
    "sum__ = 0\n",
    "cnt_ = 0\n",
    "for id, lst in pop2cs.items():\n",
    "    if len(lst) != -1:\n",
    "        sum__ += len(lst)\n",
    "        cnt_ += 1\n",
    "print(sum__)\n",
    "print(sum__/cnt_)"
   ]
  },
  {
   "cell_type": "code",
   "execution_count": 318,
   "id": "5c4ced78",
   "metadata": {},
   "outputs": [],
   "source": [
    "pre_computed_distance = {}\n",
    "checkpoints = []"
   ]
  },
  {
   "cell_type": "code",
   "execution_count": 319,
   "id": "7a586715",
   "metadata": {},
   "outputs": [
    {
     "name": "stderr",
     "output_type": "stream",
     "text": [
      "100%|██████████| 4477/4477 [44:36<00:00,  1.67it/s] \n"
     ]
    }
   ],
   "source": [
    "# Make requests to the API for computing distance and saving those distance into a dictionary\n",
    "# 1st recored at 2:30pm, Jul 16, Sat\n",
    "\n",
    "for cs_id, pop_id_list in tqdm(cs2pop.items()):\n",
    "    # In case the program stops halfway due to request limits per day, we have a checkpoint list to record how many points we have done\n",
    "    if cs_id in checkpoints:\n",
    "        continue\n",
    "    \n",
    "    # Retrieve coordinates from ids\n",
    "    destination_coords = cs_coords[cs_id]\n",
    "    pop_coords_list = []\n",
    "    for pop_id in pop_id_list:\n",
    "        pop_coords_list.append(pop_coords[pop_id])\n",
    "\n",
    "    # Make request\n",
    "    res_json = []\n",
    "    for i in range((len(pop_id_list) - 1) // 100 + 1):\n",
    "        cur_pop_coords_list = pop_coords_list[i*100:(i+1)*100]\n",
    "        cur_request_flag, cur_res_json = get_driving_distance(cur_pop_coords_list, destination_coords, API_KEY)\n",
    "        res_json += cur_res_json\n",
    "    # See if the request has went through\n",
    "    if request_flag:\n",
    "        # Just in case something went wrong with the response from the API\n",
    "        assert len(pop_id_list) == len(res_json)\n",
    "        \n",
    "        # Save the computed data into the dictionary and record in checkpoints\n",
    "        for i in range(len(pop_id_list)):\n",
    "            pre_computed_distance[(pop_id_list[i], cs_id)] = res_json[i][\"distance\"]\n",
    "        checkpoints.append(cs_id)\n",
    "    else:\n",
    "        print(res_json)"
   ]
  },
  {
   "cell_type": "code",
   "execution_count": 320,
   "id": "0d2b95b6",
   "metadata": {},
   "outputs": [],
   "source": [
    "#saving the precomputed distance pairs\n",
    "import pickle\n",
    "\n",
    "with open('precomputed_dist_pairs.pickle', 'wb') as file:\n",
    "    pickle.dump(pre_computed_distance, file, protocol=pickle.HIGHEST_PROTOCOL)"
   ]
  },
  {
   "cell_type": "code",
   "execution_count": 373,
   "id": "80e489ee",
   "metadata": {},
   "outputs": [],
   "source": [
    "cs2pop_final_4km = {}"
   ]
  },
  {
   "cell_type": "code",
   "execution_count": 375,
   "id": "0387a6a5",
   "metadata": {},
   "outputs": [],
   "source": [
    "# Re-filter the population points around a CS with the distance calculated by the API\n",
    "for cs_id, pop_id_list in cs2pop.items():\n",
    "    new_pop_id_list = []\n",
    "    for pop_id in pop_id_list:\n",
    "        if int(pre_computed_distance[(pop_id, cs_id)]) <= THRESHOLD:\n",
    "            new_pop_id_list.append(pop_id)\n",
    "    cs2pop_final_4km[cs_id] = new_pop_id_list"
   ]
  },
  {
   "cell_type": "code",
   "execution_count": 376,
   "id": "981fcafd",
   "metadata": {},
   "outputs": [],
   "source": [
    "# Same as before, inversely create a mapping from population point id to charging station id\n",
    "pop2cs_final_4km = {}\n",
    "for i in range(pop.shape[0]):\n",
    "    pop2cs_final_4km[i] = []\n",
    "\n",
    "for cs_id, pop_id_list in cs2pop_final_4km.items():\n",
    "    for pop_id in pop_id_list:\n",
    "        pop2cs_final_4km[pop_id].append(cs_id)"
   ]
  },
  {
   "cell_type": "code",
   "execution_count": 377,
   "id": "9e06a4f6",
   "metadata": {},
   "outputs": [
    {
     "name": "stdout",
     "output_type": "stream",
     "text": [
      "81825\n",
      "2.8524367287178416\n"
     ]
    }
   ],
   "source": [
    "# Checking how many charging stations are within the threshold distance from a population point on average\n",
    "sum__ = 0\n",
    "cnt_ = 0\n",
    "for id, lst in pop2cs_final_4km.items():\n",
    "    if len(lst) != -1:\n",
    "        sum__ += len(lst)\n",
    "        cnt_ += 1\n",
    "print(sum__)\n",
    "print(sum__/cnt_)"
   ]
  },
  {
   "cell_type": "markdown",
   "id": "fe6c517d",
   "metadata": {},
   "source": [
    "**Threshold caliberating:**\n",
    "<br><br>\n",
    "1km - 0.52 charging station per population point <br>\n",
    "**2km - 2.85 charging stations per population point <br>**\n",
    "3km - 7.53 charging stations per population point <br>\n",
    "4km - 14.70 charging stations per population point<br>"
   ]
  },
  {
   "cell_type": "code",
   "execution_count": 378,
   "id": "7d1fc4c6",
   "metadata": {},
   "outputs": [],
   "source": [
    "# Rename the variable to make it less confusing\n",
    "cs2pop_final = cs2pop_final_4km.copy()\n",
    "pop2cs_final = pop2cs_final_4km.copy()"
   ]
  },
  {
   "cell_type": "markdown",
   "id": "84845618",
   "metadata": {},
   "source": [
    "### Calculating Competition Factor"
   ]
  },
  {
   "cell_type": "code",
   "execution_count": 379,
   "id": "5fbbf3f3",
   "metadata": {},
   "outputs": [],
   "source": [
    "# Parameter gamma from the formula\n",
    "gamma = 1"
   ]
  },
  {
   "cell_type": "code",
   "execution_count": 398,
   "id": "18481abb",
   "metadata": {},
   "outputs": [],
   "source": [
    "# Creating a mapping from charging station id to its corresponding competition factor\n",
    "V = {}\n",
    "\n",
    "for cs_id, pop_id_list in cs2pop_final.items():\n",
    "    V_j = 0\n",
    "    for pop_id in pop_id_list:\n",
    "        pop_value = pop['NTL_value'].values[pop_id]\n",
    "        cur_dist = int(pre_computed_distance[(pop_id, cs_id)]) / 1000\n",
    "        V_j += pop_value / (cur_dist ** gamma)\n",
    "    V[cs_id] = V_j"
   ]
  },
  {
   "cell_type": "code",
   "execution_count": 399,
   "id": "c36ff1da",
   "metadata": {},
   "outputs": [
    {
     "name": "stdout",
     "output_type": "stream",
     "text": [
      "67\n",
      "0.014965378601742237\n"
     ]
    }
   ],
   "source": [
    "# Check how many V_j's are 0\n",
    "cnt = 0\n",
    "for key, value in V.items():\n",
    "    if value == 0:\n",
    "        cnt += 1\n",
    "\n",
    "print(cnt)\n",
    "print(cnt/len(V))"
   ]
  },
  {
   "cell_type": "markdown",
   "id": "e3b6f37f",
   "metadata": {},
   "source": [
    "However, some of the charging stations actually don't have any population point within the threshold distance, which will cause the $V_j$ to be 0 and leads to zero division.\n",
    "<br>\n",
    "Well, that doesn't make a difference since no population point will count in those charging stations when computing gravity measure."
   ]
  },
  {
   "cell_type": "markdown",
   "id": "44d22f20",
   "metadata": {},
   "source": [
    "### Calculate Accessibility Index using the Improved Gravity Model Formula"
   ]
  },
  {
   "cell_type": "code",
   "execution_count": 400,
   "id": "3dce5c69",
   "metadata": {},
   "outputs": [],
   "source": [
    "alpha = 24 / 6\n",
    "beta = 24 / 1\n",
    "theta = 1"
   ]
  },
  {
   "cell_type": "code",
   "execution_count": 401,
   "id": "810b993b",
   "metadata": {},
   "outputs": [],
   "source": [
    "charging_station['charging opportunity'] = alpha * charging_station['Num_of_AC'] + beta * charging_station['Num_of_DC']"
   ]
  },
  {
   "cell_type": "code",
   "execution_count": 402,
   "id": "51e2608a",
   "metadata": {},
   "outputs": [],
   "source": [
    "pop['accessibility'] = np.nan"
   ]
  },
  {
   "cell_type": "code",
   "execution_count": 404,
   "id": "f8e6d862",
   "metadata": {},
   "outputs": [],
   "source": [
    "for pop_id, cs_id_list in pop2cs_final.items():\n",
    "    A_i = 0\n",
    "    for cs_id in cs_id_list:\n",
    "        this_V = V[cs_id]\n",
    "        this_M = charging_station['charging opportunity'].values[cs_id]\n",
    "        this_D = int(pre_computed_distance[(pop_id, cs_id)]) / 1000\n",
    "        A_i += this_M / (this_M * (this_D ** theta))\n",
    "    pop.loc[pop_id,'accessibility'] = A_i"
   ]
  },
  {
   "cell_type": "code",
   "execution_count": 410,
   "id": "d16e7a94",
   "metadata": {},
   "outputs": [],
   "source": [
    "pop.to_csv('Accessibility.csv')"
   ]
  }
 ],
 "metadata": {
  "kernelspec": {
   "display_name": "Python 3",
   "language": "python",
   "name": "python3"
  },
  "language_info": {
   "codemirror_mode": {
    "name": "ipython",
    "version": 3
   },
   "file_extension": ".py",
   "mimetype": "text/x-python",
   "name": "python",
   "nbconvert_exporter": "python",
   "pygments_lexer": "ipython3",
   "version": "3.8.8"
  },
  "toc": {
   "base_numbering": 1,
   "nav_menu": {},
   "number_sections": true,
   "sideBar": true,
   "skip_h1_title": false,
   "title_cell": "Table of Contents",
   "title_sidebar": "Contents",
   "toc_cell": false,
   "toc_position": {},
   "toc_section_display": true,
   "toc_window_display": false
  }
 },
 "nbformat": 4,
 "nbformat_minor": 5
}
