{
 "cells": [
  {
   "cell_type": "code",
   "execution_count": 12,
   "id": "460e7495",
   "metadata": {},
   "outputs": [
    {
     "name": "stdout",
     "output_type": "stream",
     "text": [
      "Requirement already satisfied: mgwr in /Users/balechen/opt/anaconda3/lib/python3.8/site-packages (2.1.2)\n",
      "Requirement already satisfied: spglm>=1.0.6 in /Users/balechen/opt/anaconda3/lib/python3.8/site-packages (from mgwr) (1.0.8)\n",
      "Requirement already satisfied: libpysal>=4.0.0 in /Users/balechen/opt/anaconda3/lib/python3.8/site-packages (from mgwr) (4.6.2)\n",
      "Requirement already satisfied: numpy>=1.3 in /Users/balechen/opt/anaconda3/lib/python3.8/site-packages (from mgwr) (1.20.1)\n",
      "Requirement already satisfied: spreg in /Users/balechen/opt/anaconda3/lib/python3.8/site-packages (from mgwr) (1.2.4)\n",
      "Requirement already satisfied: scipy>=0.11 in /Users/balechen/opt/anaconda3/lib/python3.8/site-packages (from mgwr) (1.6.2)\n",
      "Requirement already satisfied: packaging in /Users/balechen/opt/anaconda3/lib/python3.8/site-packages (from libpysal>=4.0.0->mgwr) (20.9)\n",
      "Requirement already satisfied: appdirs in /Users/balechen/opt/anaconda3/lib/python3.8/site-packages (from libpysal>=4.0.0->mgwr) (1.4.4)\n",
      "Requirement already satisfied: pandas in /Users/balechen/opt/anaconda3/lib/python3.8/site-packages (from libpysal>=4.0.0->mgwr) (1.2.4)\n",
      "Requirement already satisfied: requests in /Users/balechen/opt/anaconda3/lib/python3.8/site-packages (from libpysal>=4.0.0->mgwr) (2.25.1)\n",
      "Requirement already satisfied: jinja2 in /Users/balechen/opt/anaconda3/lib/python3.8/site-packages (from libpysal>=4.0.0->mgwr) (2.11.3)\n",
      "Requirement already satisfied: beautifulsoup4 in /Users/balechen/opt/anaconda3/lib/python3.8/site-packages (from libpysal>=4.0.0->mgwr) (4.9.3)\n",
      "Requirement already satisfied: soupsieve>1.2 in /Users/balechen/opt/anaconda3/lib/python3.8/site-packages (from beautifulsoup4->libpysal>=4.0.0->mgwr) (2.2.1)\n",
      "Requirement already satisfied: MarkupSafe>=0.23 in /Users/balechen/opt/anaconda3/lib/python3.8/site-packages (from jinja2->libpysal>=4.0.0->mgwr) (1.1.1)\n",
      "Requirement already satisfied: pyparsing>=2.0.2 in /Users/balechen/opt/anaconda3/lib/python3.8/site-packages (from packaging->libpysal>=4.0.0->mgwr) (2.4.7)\n",
      "Requirement already satisfied: python-dateutil>=2.7.3 in /Users/balechen/opt/anaconda3/lib/python3.8/site-packages (from pandas->libpysal>=4.0.0->mgwr) (2.8.1)\n",
      "Requirement already satisfied: pytz>=2017.3 in /Users/balechen/opt/anaconda3/lib/python3.8/site-packages (from pandas->libpysal>=4.0.0->mgwr) (2021.1)\n",
      "Requirement already satisfied: six>=1.5 in /Users/balechen/opt/anaconda3/lib/python3.8/site-packages (from python-dateutil>=2.7.3->pandas->libpysal>=4.0.0->mgwr) (1.15.0)\n",
      "Requirement already satisfied: idna<3,>=2.5 in /Users/balechen/opt/anaconda3/lib/python3.8/site-packages (from requests->libpysal>=4.0.0->mgwr) (2.10)\n",
      "Requirement already satisfied: certifi>=2017.4.17 in /Users/balechen/opt/anaconda3/lib/python3.8/site-packages (from requests->libpysal>=4.0.0->mgwr) (2020.12.5)\n",
      "Requirement already satisfied: urllib3<1.27,>=1.21.1 in /Users/balechen/opt/anaconda3/lib/python3.8/site-packages (from requests->libpysal>=4.0.0->mgwr) (1.26.4)\n",
      "Requirement already satisfied: chardet<5,>=3.0.2 in /Users/balechen/opt/anaconda3/lib/python3.8/site-packages (from requests->libpysal>=4.0.0->mgwr) (4.0.0)\n",
      "Note: you may need to restart the kernel to use updated packages.\n"
     ]
    }
   ],
   "source": [
    "pip install -U mgwr"
   ]
  },
  {
   "cell_type": "code",
   "execution_count": 1,
   "id": "85f9b764",
   "metadata": {},
   "outputs": [
    {
     "name": "stderr",
     "output_type": "stream",
     "text": [
      "/Users/balechen/opt/anaconda3/lib/python3.8/site-packages/libpysal/weights/util.py:23: UserWarning: geopandas not available. Some functionality will be disabled.\n",
      "  warn(\"geopandas not available. Some functionality will be disabled.\")\n"
     ]
    }
   ],
   "source": [
    "import pandas as pd\n",
    "import libpysal as ps\n",
    "import mgwr"
   ]
  },
  {
   "cell_type": "markdown",
   "id": "32278627",
   "metadata": {},
   "source": [
    "## Data Loading"
   ]
  },
  {
   "cell_type": "code",
   "execution_count": 77,
   "id": "cf26e0c0",
   "metadata": {},
   "outputs": [
    {
     "name": "stdout",
     "output_type": "stream",
     "text": [
      "<class 'pandas.core.frame.DataFrame'>\n",
      "RangeIndex: 32554 entries, 0 to 32553\n",
      "Data columns (total 8 columns):\n",
      " #   Column                Non-Null Count  Dtype  \n",
      "---  ------                --------------  -----  \n",
      " 0   y                     32554 non-null  float64\n",
      " 1   housing_price_1       32554 non-null  float64\n",
      " 2   housing_price_2       32554 non-null  float64\n",
      " 3   housing_price_3       32554 non-null  float64\n",
      " 4   NTL                   32554 non-null  float64\n",
      " 5   road_network_density  32554 non-null  float64\n",
      " 6   lng                   32554 non-null  float64\n",
      " 7   lat                   32554 non-null  float64\n",
      "dtypes: float64(8)\n",
      "memory usage: 2.0 MB\n"
     ]
    }
   ],
   "source": [
    "data = pd.read_csv('final_processed_csv/final.csv')\n",
    "data.info()"
   ]
  },
  {
   "cell_type": "markdown",
   "id": "193cabed",
   "metadata": {},
   "source": [
    "## MGWR Model "
   ]
  },
  {
   "cell_type": "code",
   "execution_count": 78,
   "id": "9b8c8538",
   "metadata": {},
   "outputs": [],
   "source": [
    "from mgwr.gwr import GWR, MGWR\n",
    "from mgwr.sel_bw import Sel_BW\n",
    "import numpy as np"
   ]
  },
  {
   "cell_type": "code",
   "execution_count": 79,
   "id": "815522f8",
   "metadata": {},
   "outputs": [],
   "source": [
    "#TODO\n",
    "\n",
    "ind_features = [\n",
    "    'housing_price_1',\n",
    "    'housing_price_2',\n",
    "    'housing_price_3',\n",
    "    'NTL',\n",
    "    'road_network_density'\n",
    "]\n"
   ]
  },
  {
   "cell_type": "code",
   "execution_count": 80,
   "id": "93bd24d8",
   "metadata": {},
   "outputs": [],
   "source": [
    "data = pd.read_csv('final_processed_csv/final.csv')\n",
    "coords = list(zip(data.lng, data.lat))[100:]\n",
    "X = data[ind_features].values[100:]\n",
    "y = data['y'].values[100:]\n",
    "y = y.reshape(-1,1)\n",
    "\n",
    "X = (X - X.mean(axis=0)) / X.std(axis=0)\n",
    "y = (y - y.mean(axis=0)) / y.std(axis=0)"
   ]
  },
  {
   "cell_type": "markdown",
   "id": "836febf1",
   "metadata": {},
   "source": [
    "32553.0, 32553.0, 32553.0, 32553.0, 143.0, 1494.0\n",
    "\n",
    "housing price\n",
    "housing price\n",
    "housing price\n",
    "NTL\n",
    "Road network density"
   ]
  },
  {
   "cell_type": "code",
   "execution_count": 76,
   "id": "8421c781",
   "metadata": {
    "scrolled": true
   },
   "outputs": [
    {
     "ename": "KeyboardInterrupt",
     "evalue": "",
     "output_type": "error",
     "traceback": [
      "\u001b[0;31m---------------------------------------------------------------------------\u001b[0m",
      "\u001b[0;31mKeyboardInterrupt\u001b[0m                         Traceback (most recent call last)",
      "\u001b[0;32m<ipython-input-76-dec53de656fa>\u001b[0m in \u001b[0;36m<module>\u001b[0;34m\u001b[0m\n\u001b[1;32m      1\u001b[0m \u001b[0mGWRmodel\u001b[0m \u001b[0;34m=\u001b[0m \u001b[0mGWR\u001b[0m\u001b[0;34m(\u001b[0m\u001b[0mcoords\u001b[0m\u001b[0;34m,\u001b[0m \u001b[0my\u001b[0m\u001b[0;34m,\u001b[0m \u001b[0mX\u001b[0m\u001b[0;34m,\u001b[0m \u001b[0mbw\u001b[0m\u001b[0;34m=\u001b[0m\u001b[0;36m90\u001b[0m\u001b[0;34m,\u001b[0m \u001b[0mspherical\u001b[0m\u001b[0;34m=\u001b[0m\u001b[0;32mTrue\u001b[0m\u001b[0;34m)\u001b[0m\u001b[0;34m\u001b[0m\u001b[0;34m\u001b[0m\u001b[0m\n\u001b[0;32m----> 2\u001b[0;31m \u001b[0mresults\u001b[0m \u001b[0;34m=\u001b[0m \u001b[0mGWRmodel\u001b[0m\u001b[0;34m.\u001b[0m\u001b[0mfit\u001b[0m\u001b[0;34m(\u001b[0m\u001b[0;34m)\u001b[0m\u001b[0;34m\u001b[0m\u001b[0;34m\u001b[0m\u001b[0m\n\u001b[0m",
      "\u001b[0;32m~/opt/anaconda3/lib/python3.8/site-packages/mgwr/gwr.py\u001b[0m in \u001b[0;36mfit\u001b[0;34m(self, ini_params, tol, max_iter, solve, lite, pool)\u001b[0m\n\u001b[1;32m    333\u001b[0m                 \u001b[0mrslt\u001b[0m \u001b[0;34m=\u001b[0m \u001b[0mmap\u001b[0m\u001b[0;34m(\u001b[0m\u001b[0mself\u001b[0m\u001b[0;34m.\u001b[0m\u001b[0m_local_fit\u001b[0m\u001b[0;34m,\u001b[0m \u001b[0mrange\u001b[0m\u001b[0;34m(\u001b[0m\u001b[0mm\u001b[0m\u001b[0;34m)\u001b[0m\u001b[0;34m)\u001b[0m  \u001b[0;31m#sequential\u001b[0m\u001b[0;34m\u001b[0m\u001b[0;34m\u001b[0m\u001b[0m\n\u001b[1;32m    334\u001b[0m \u001b[0;34m\u001b[0m\u001b[0m\n\u001b[0;32m--> 335\u001b[0;31m             \u001b[0mrslt_list\u001b[0m \u001b[0;34m=\u001b[0m \u001b[0mlist\u001b[0m\u001b[0;34m(\u001b[0m\u001b[0mzip\u001b[0m\u001b[0;34m(\u001b[0m\u001b[0;34m*\u001b[0m\u001b[0mrslt\u001b[0m\u001b[0;34m)\u001b[0m\u001b[0;34m)\u001b[0m\u001b[0;34m\u001b[0m\u001b[0;34m\u001b[0m\u001b[0m\n\u001b[0m\u001b[1;32m    336\u001b[0m             \u001b[0minflu\u001b[0m \u001b[0;34m=\u001b[0m \u001b[0mnp\u001b[0m\u001b[0;34m.\u001b[0m\u001b[0marray\u001b[0m\u001b[0;34m(\u001b[0m\u001b[0mrslt_list\u001b[0m\u001b[0;34m[\u001b[0m\u001b[0;36m0\u001b[0m\u001b[0;34m]\u001b[0m\u001b[0;34m)\u001b[0m\u001b[0;34m.\u001b[0m\u001b[0mreshape\u001b[0m\u001b[0;34m(\u001b[0m\u001b[0;34m-\u001b[0m\u001b[0;36m1\u001b[0m\u001b[0;34m,\u001b[0m \u001b[0;36m1\u001b[0m\u001b[0;34m)\u001b[0m\u001b[0;34m\u001b[0m\u001b[0;34m\u001b[0m\u001b[0m\n\u001b[1;32m    337\u001b[0m             \u001b[0mresid\u001b[0m \u001b[0;34m=\u001b[0m \u001b[0mnp\u001b[0m\u001b[0;34m.\u001b[0m\u001b[0marray\u001b[0m\u001b[0;34m(\u001b[0m\u001b[0mrslt_list\u001b[0m\u001b[0;34m[\u001b[0m\u001b[0;36m1\u001b[0m\u001b[0;34m]\u001b[0m\u001b[0;34m)\u001b[0m\u001b[0;34m.\u001b[0m\u001b[0mreshape\u001b[0m\u001b[0;34m(\u001b[0m\u001b[0;34m-\u001b[0m\u001b[0;36m1\u001b[0m\u001b[0;34m,\u001b[0m \u001b[0;36m1\u001b[0m\u001b[0;34m)\u001b[0m\u001b[0;34m\u001b[0m\u001b[0;34m\u001b[0m\u001b[0m\n",
      "\u001b[0;32m~/opt/anaconda3/lib/python3.8/site-packages/mgwr/gwr.py\u001b[0m in \u001b[0;36m_local_fit\u001b[0;34m(self, i)\u001b[0m\n\u001b[1;32m    249\u001b[0m \u001b[0;34m\u001b[0m\u001b[0m\n\u001b[1;32m    250\u001b[0m         \u001b[0;32mif\u001b[0m \u001b[0misinstance\u001b[0m\u001b[0;34m(\u001b[0m\u001b[0mself\u001b[0m\u001b[0;34m.\u001b[0m\u001b[0mfamily\u001b[0m\u001b[0;34m,\u001b[0m \u001b[0mGaussian\u001b[0m\u001b[0;34m)\u001b[0m\u001b[0;34m:\u001b[0m\u001b[0;34m\u001b[0m\u001b[0;34m\u001b[0m\u001b[0m\n\u001b[0;32m--> 251\u001b[0;31m             \u001b[0mbetas\u001b[0m\u001b[0;34m,\u001b[0m \u001b[0minv_xtx_xt\u001b[0m \u001b[0;34m=\u001b[0m \u001b[0m_compute_betas_gwr\u001b[0m\u001b[0;34m(\u001b[0m\u001b[0mself\u001b[0m\u001b[0;34m.\u001b[0m\u001b[0my\u001b[0m\u001b[0;34m,\u001b[0m \u001b[0mself\u001b[0m\u001b[0;34m.\u001b[0m\u001b[0mX\u001b[0m\u001b[0;34m,\u001b[0m \u001b[0mwi\u001b[0m\u001b[0;34m)\u001b[0m\u001b[0;34m\u001b[0m\u001b[0;34m\u001b[0m\u001b[0m\n\u001b[0m\u001b[1;32m    252\u001b[0m             \u001b[0mpredy\u001b[0m \u001b[0;34m=\u001b[0m \u001b[0mnp\u001b[0m\u001b[0;34m.\u001b[0m\u001b[0mdot\u001b[0m\u001b[0;34m(\u001b[0m\u001b[0mself\u001b[0m\u001b[0;34m.\u001b[0m\u001b[0mX\u001b[0m\u001b[0;34m[\u001b[0m\u001b[0mi\u001b[0m\u001b[0;34m]\u001b[0m\u001b[0;34m,\u001b[0m \u001b[0mbetas\u001b[0m\u001b[0;34m)\u001b[0m\u001b[0;34m[\u001b[0m\u001b[0;36m0\u001b[0m\u001b[0;34m]\u001b[0m\u001b[0;34m\u001b[0m\u001b[0;34m\u001b[0m\u001b[0m\n\u001b[1;32m    253\u001b[0m             \u001b[0mresid\u001b[0m \u001b[0;34m=\u001b[0m \u001b[0mself\u001b[0m\u001b[0;34m.\u001b[0m\u001b[0my\u001b[0m\u001b[0;34m[\u001b[0m\u001b[0mi\u001b[0m\u001b[0;34m]\u001b[0m \u001b[0;34m-\u001b[0m \u001b[0mpredy\u001b[0m\u001b[0;34m\u001b[0m\u001b[0;34m\u001b[0m\u001b[0m\n",
      "\u001b[0;32m~/opt/anaconda3/lib/python3.8/site-packages/spglm/iwls.py\u001b[0m in \u001b[0;36m_compute_betas_gwr\u001b[0;34m(y, x, wi)\u001b[0m\n\u001b[1;32m     36\u001b[0m     \u001b[0mxtx\u001b[0m \u001b[0;34m=\u001b[0m \u001b[0mnp\u001b[0m\u001b[0;34m.\u001b[0m\u001b[0mdot\u001b[0m\u001b[0;34m(\u001b[0m\u001b[0mxT\u001b[0m\u001b[0;34m,\u001b[0m \u001b[0mx\u001b[0m\u001b[0;34m)\u001b[0m\u001b[0;34m\u001b[0m\u001b[0;34m\u001b[0m\u001b[0m\n\u001b[1;32m     37\u001b[0m     \u001b[0mxtx_inv_xt\u001b[0m \u001b[0;34m=\u001b[0m \u001b[0mlinalg\u001b[0m\u001b[0;34m.\u001b[0m\u001b[0msolve\u001b[0m\u001b[0;34m(\u001b[0m\u001b[0mxtx\u001b[0m\u001b[0;34m,\u001b[0m \u001b[0mxT\u001b[0m\u001b[0;34m)\u001b[0m\u001b[0;34m\u001b[0m\u001b[0;34m\u001b[0m\u001b[0m\n\u001b[0;32m---> 38\u001b[0;31m     \u001b[0mbetas\u001b[0m \u001b[0;34m=\u001b[0m \u001b[0mnp\u001b[0m\u001b[0;34m.\u001b[0m\u001b[0mdot\u001b[0m\u001b[0;34m(\u001b[0m\u001b[0mxtx_inv_xt\u001b[0m\u001b[0;34m,\u001b[0m \u001b[0my\u001b[0m\u001b[0;34m)\u001b[0m\u001b[0;34m\u001b[0m\u001b[0;34m\u001b[0m\u001b[0m\n\u001b[0m\u001b[1;32m     39\u001b[0m     \u001b[0;32mreturn\u001b[0m \u001b[0mbetas\u001b[0m\u001b[0;34m,\u001b[0m \u001b[0mxtx_inv_xt\u001b[0m\u001b[0;34m\u001b[0m\u001b[0;34m\u001b[0m\u001b[0m\n\u001b[1;32m     40\u001b[0m \u001b[0;34m\u001b[0m\u001b[0m\n",
      "\u001b[0;32m<__array_function__ internals>\u001b[0m in \u001b[0;36mdot\u001b[0;34m(*args, **kwargs)\u001b[0m\n",
      "\u001b[0;31mKeyboardInterrupt\u001b[0m: "
     ]
    }
   ],
   "source": [
    "GWRmodel = GWR(coords, y, X, bw=90, spherical=True)\n",
    "results = GWRmodel.fit()"
   ]
  },
  {
   "cell_type": "code",
   "execution_count": 81,
   "id": "a63aa3d2",
   "metadata": {},
   "outputs": [
    {
     "ename": "KeyboardInterrupt",
     "evalue": "",
     "output_type": "error",
     "traceback": [
      "\u001b[0;31m---------------------------------------------------------------------------\u001b[0m",
      "\u001b[0;31mKeyboardInterrupt\u001b[0m                         Traceback (most recent call last)",
      "\u001b[0;32m<ipython-input-81-06962ecb7365>\u001b[0m in \u001b[0;36m<module>\u001b[0;34m\u001b[0m\n\u001b[1;32m      1\u001b[0m \u001b[0mselector\u001b[0m \u001b[0;34m=\u001b[0m \u001b[0mSel_BW\u001b[0m\u001b[0;34m(\u001b[0m\u001b[0mcoords\u001b[0m\u001b[0;34m,\u001b[0m \u001b[0my\u001b[0m\u001b[0;34m,\u001b[0m \u001b[0mX\u001b[0m\u001b[0;34m,\u001b[0m \u001b[0mmulti\u001b[0m\u001b[0;34m=\u001b[0m\u001b[0;32mTrue\u001b[0m\u001b[0;34m,\u001b[0m \u001b[0mspherical\u001b[0m\u001b[0;34m=\u001b[0m\u001b[0;32mTrue\u001b[0m\u001b[0;34m)\u001b[0m\u001b[0;34m\u001b[0m\u001b[0;34m\u001b[0m\u001b[0m\n\u001b[0;32m----> 2\u001b[0;31m \u001b[0mselector\u001b[0m\u001b[0;34m.\u001b[0m\u001b[0msearch\u001b[0m\u001b[0;34m(\u001b[0m\u001b[0msearch_method\u001b[0m \u001b[0;34m=\u001b[0m \u001b[0;34m'golden_section'\u001b[0m\u001b[0;34m,\u001b[0m \u001b[0mverbose\u001b[0m\u001b[0;34m=\u001b[0m\u001b[0;32mTrue\u001b[0m\u001b[0;34m)\u001b[0m\u001b[0;34m\u001b[0m\u001b[0;34m\u001b[0m\u001b[0m\n\u001b[0m\u001b[1;32m      3\u001b[0m \u001b[0;34m\u001b[0m\u001b[0m\n\u001b[1;32m      4\u001b[0m MGWRmodel = MGWR(coords, y, X,\n\u001b[1;32m      5\u001b[0m              \u001b[0mselector\u001b[0m\u001b[0;34m=\u001b[0m\u001b[0mselector\u001b[0m\u001b[0;34m,\u001b[0m\u001b[0;34m\u001b[0m\u001b[0;34m\u001b[0m\u001b[0m\n",
      "\u001b[0;32m~/opt/anaconda3/lib/python3.8/site-packages/mgwr/sel_bw.py\u001b[0m in \u001b[0;36msearch\u001b[0;34m(self, search_method, criterion, bw_min, bw_max, interval, tol, max_iter, init_multi, tol_multi, rss_score, max_iter_multi, multi_bw_min, multi_bw_max, bws_same_times, pool, verbose)\u001b[0m\n\u001b[1;32m    311\u001b[0m \u001b[0;34m\u001b[0m\u001b[0m\n\u001b[1;32m    312\u001b[0m         \u001b[0;32mif\u001b[0m \u001b[0mself\u001b[0m\u001b[0;34m.\u001b[0m\u001b[0mmulti\u001b[0m\u001b[0;34m:\u001b[0m\u001b[0;34m\u001b[0m\u001b[0;34m\u001b[0m\u001b[0m\n\u001b[0;32m--> 313\u001b[0;31m             \u001b[0mself\u001b[0m\u001b[0;34m.\u001b[0m\u001b[0m_mbw\u001b[0m\u001b[0;34m(\u001b[0m\u001b[0;34m)\u001b[0m\u001b[0;34m\u001b[0m\u001b[0;34m\u001b[0m\u001b[0m\n\u001b[0m\u001b[1;32m    314\u001b[0m             \u001b[0mself\u001b[0m\u001b[0;34m.\u001b[0m\u001b[0mparams\u001b[0m \u001b[0;34m=\u001b[0m \u001b[0mself\u001b[0m\u001b[0;34m.\u001b[0m\u001b[0mbw\u001b[0m\u001b[0;34m[\u001b[0m\u001b[0;36m3\u001b[0m\u001b[0;34m]\u001b[0m  \u001b[0;31m#params n by k\u001b[0m\u001b[0;34m\u001b[0m\u001b[0;34m\u001b[0m\u001b[0m\n\u001b[1;32m    315\u001b[0m             \u001b[0mself\u001b[0m\u001b[0;34m.\u001b[0m\u001b[0msel_hist\u001b[0m \u001b[0;34m=\u001b[0m \u001b[0mself\u001b[0m\u001b[0;34m.\u001b[0m\u001b[0mbw\u001b[0m\u001b[0;34m[\u001b[0m\u001b[0;34m-\u001b[0m\u001b[0;36m2\u001b[0m\u001b[0;34m]\u001b[0m \u001b[0;31m#bw searching history\u001b[0m\u001b[0;34m\u001b[0m\u001b[0;34m\u001b[0m\u001b[0m\n",
      "\u001b[0;32m~/opt/anaconda3/lib/python3.8/site-packages/mgwr/sel_bw.py\u001b[0m in \u001b[0;36m_mbw\u001b[0;34m(self)\u001b[0m\n\u001b[1;32m    397\u001b[0m                 max_iter=max_iter, pool=self.pool, verbose=False)\n\u001b[1;32m    398\u001b[0m \u001b[0;34m\u001b[0m\u001b[0m\n\u001b[0;32m--> 399\u001b[0;31m         self.bw = multi_bw(self.init_multi, y, X, n, k, family, self.tol_multi,\n\u001b[0m\u001b[1;32m    400\u001b[0m                            \u001b[0mself\u001b[0m\u001b[0;34m.\u001b[0m\u001b[0mmax_iter_multi\u001b[0m\u001b[0;34m,\u001b[0m \u001b[0mself\u001b[0m\u001b[0;34m.\u001b[0m\u001b[0mrss_score\u001b[0m\u001b[0;34m,\u001b[0m \u001b[0mgwr_func\u001b[0m\u001b[0;34m,\u001b[0m\u001b[0;34m\u001b[0m\u001b[0;34m\u001b[0m\u001b[0m\n\u001b[1;32m    401\u001b[0m                            \u001b[0mbw_func\u001b[0m\u001b[0;34m,\u001b[0m \u001b[0msel_func\u001b[0m\u001b[0;34m,\u001b[0m \u001b[0mmulti_bw_min\u001b[0m\u001b[0;34m,\u001b[0m \u001b[0mmulti_bw_max\u001b[0m\u001b[0;34m,\u001b[0m\u001b[0;34m\u001b[0m\u001b[0;34m\u001b[0m\u001b[0m\n",
      "\u001b[0;32m~/opt/anaconda3/lib/python3.8/site-packages/mgwr/search.py\u001b[0m in \u001b[0;36mmulti_bw\u001b[0;34m(init, y, X, n, k, family, tol, max_iter, rss_score, gwr_func, bw_func, sel_func, multi_bw_min, multi_bw_max, bws_same_times, verbose)\u001b[0m\n\u001b[1;32m    180\u001b[0m     \"\"\"\n\u001b[1;32m    181\u001b[0m     \u001b[0;32mif\u001b[0m \u001b[0minit\u001b[0m \u001b[0;32mis\u001b[0m \u001b[0;32mNone\u001b[0m\u001b[0;34m:\u001b[0m\u001b[0;34m\u001b[0m\u001b[0;34m\u001b[0m\u001b[0m\n\u001b[0;32m--> 182\u001b[0;31m         \u001b[0mbw\u001b[0m \u001b[0;34m=\u001b[0m \u001b[0msel_func\u001b[0m\u001b[0;34m(\u001b[0m\u001b[0mbw_func\u001b[0m\u001b[0;34m(\u001b[0m\u001b[0my\u001b[0m\u001b[0;34m,\u001b[0m \u001b[0mX\u001b[0m\u001b[0;34m)\u001b[0m\u001b[0;34m)\u001b[0m\u001b[0;34m\u001b[0m\u001b[0;34m\u001b[0m\u001b[0m\n\u001b[0m\u001b[1;32m    183\u001b[0m         \u001b[0moptim_model\u001b[0m \u001b[0;34m=\u001b[0m \u001b[0mgwr_func\u001b[0m\u001b[0;34m(\u001b[0m\u001b[0my\u001b[0m\u001b[0;34m,\u001b[0m \u001b[0mX\u001b[0m\u001b[0;34m,\u001b[0m \u001b[0mbw\u001b[0m\u001b[0;34m)\u001b[0m\u001b[0;34m\u001b[0m\u001b[0;34m\u001b[0m\u001b[0m\n\u001b[1;32m    184\u001b[0m     \u001b[0;32melse\u001b[0m\u001b[0;34m:\u001b[0m\u001b[0;34m\u001b[0m\u001b[0;34m\u001b[0m\u001b[0m\n",
      "\u001b[0;32m~/opt/anaconda3/lib/python3.8/site-packages/mgwr/sel_bw.py\u001b[0m in \u001b[0;36msel_func\u001b[0;34m(bw_func, bw_min, bw_max)\u001b[0m\n\u001b[1;32m    392\u001b[0m \u001b[0;34m\u001b[0m\u001b[0m\n\u001b[1;32m    393\u001b[0m         \u001b[0;32mdef\u001b[0m \u001b[0msel_func\u001b[0m\u001b[0;34m(\u001b[0m\u001b[0mbw_func\u001b[0m\u001b[0;34m,\u001b[0m \u001b[0mbw_min\u001b[0m\u001b[0;34m=\u001b[0m\u001b[0;32mNone\u001b[0m\u001b[0;34m,\u001b[0m \u001b[0mbw_max\u001b[0m\u001b[0;34m=\u001b[0m\u001b[0;32mNone\u001b[0m\u001b[0;34m)\u001b[0m\u001b[0;34m:\u001b[0m\u001b[0;34m\u001b[0m\u001b[0;34m\u001b[0m\u001b[0m\n\u001b[0;32m--> 394\u001b[0;31m             return bw_func.search(\n\u001b[0m\u001b[1;32m    395\u001b[0m                 \u001b[0msearch_method\u001b[0m\u001b[0;34m=\u001b[0m\u001b[0msearch_method\u001b[0m\u001b[0;34m,\u001b[0m \u001b[0mcriterion\u001b[0m\u001b[0;34m=\u001b[0m\u001b[0mcriterion\u001b[0m\u001b[0;34m,\u001b[0m\u001b[0;34m\u001b[0m\u001b[0;34m\u001b[0m\u001b[0m\n\u001b[1;32m    396\u001b[0m                 \u001b[0mbw_min\u001b[0m\u001b[0;34m=\u001b[0m\u001b[0mbw_min\u001b[0m\u001b[0;34m,\u001b[0m \u001b[0mbw_max\u001b[0m\u001b[0;34m=\u001b[0m\u001b[0mbw_max\u001b[0m\u001b[0;34m,\u001b[0m \u001b[0minterval\u001b[0m\u001b[0;34m=\u001b[0m\u001b[0minterval\u001b[0m\u001b[0;34m,\u001b[0m \u001b[0mtol\u001b[0m\u001b[0;34m=\u001b[0m\u001b[0mtol\u001b[0m\u001b[0;34m,\u001b[0m\u001b[0;34m\u001b[0m\u001b[0;34m\u001b[0m\u001b[0m\n",
      "\u001b[0;32m~/opt/anaconda3/lib/python3.8/site-packages/mgwr/sel_bw.py\u001b[0m in \u001b[0;36msearch\u001b[0;34m(self, search_method, criterion, bw_min, bw_max, interval, tol, max_iter, init_multi, tol_multi, rss_score, max_iter_multi, multi_bw_min, multi_bw_max, bws_same_times, pool, verbose)\u001b[0m\n\u001b[1;32m    317\u001b[0m                 -1]  #scalar, optimal bw from initial gwr model\n\u001b[1;32m    318\u001b[0m         \u001b[0;32melse\u001b[0m\u001b[0;34m:\u001b[0m\u001b[0;34m\u001b[0m\u001b[0;34m\u001b[0m\u001b[0m\n\u001b[0;32m--> 319\u001b[0;31m             \u001b[0mself\u001b[0m\u001b[0;34m.\u001b[0m\u001b[0m_bw\u001b[0m\u001b[0;34m(\u001b[0m\u001b[0;34m)\u001b[0m\u001b[0;34m\u001b[0m\u001b[0;34m\u001b[0m\u001b[0m\n\u001b[0m\u001b[1;32m    320\u001b[0m             \u001b[0mself\u001b[0m\u001b[0;34m.\u001b[0m\u001b[0msel_hist\u001b[0m \u001b[0;34m=\u001b[0m \u001b[0mself\u001b[0m\u001b[0;34m.\u001b[0m\u001b[0mbw\u001b[0m\u001b[0;34m[\u001b[0m\u001b[0;34m-\u001b[0m\u001b[0;36m1\u001b[0m\u001b[0;34m]\u001b[0m\u001b[0;34m\u001b[0m\u001b[0;34m\u001b[0m\u001b[0m\n\u001b[1;32m    321\u001b[0m \u001b[0;34m\u001b[0m\u001b[0m\n",
      "\u001b[0;32m~/opt/anaconda3/lib/python3.8/site-packages/mgwr/sel_bw.py\u001b[0m in \u001b[0;36m_bw\u001b[0;34m(self)\u001b[0m\n\u001b[1;32m    335\u001b[0m                                       self.constant)\n\u001b[1;32m    336\u001b[0m             \u001b[0mdelta\u001b[0m \u001b[0;34m=\u001b[0m \u001b[0;36m0.38197\u001b[0m  \u001b[0;31m#1 - (np.sqrt(5.0)-1.0)/2.0\u001b[0m\u001b[0;34m\u001b[0m\u001b[0;34m\u001b[0m\u001b[0m\n\u001b[0;32m--> 337\u001b[0;31m             self.bw = golden_section(a, c, delta, gwr_func, self.tol,\n\u001b[0m\u001b[1;32m    338\u001b[0m                                      \u001b[0mself\u001b[0m\u001b[0;34m.\u001b[0m\u001b[0mmax_iter\u001b[0m\u001b[0;34m,\u001b[0m \u001b[0mself\u001b[0m\u001b[0;34m.\u001b[0m\u001b[0mint_score\u001b[0m\u001b[0;34m,\u001b[0m\u001b[0;34m\u001b[0m\u001b[0;34m\u001b[0m\u001b[0m\n\u001b[1;32m    339\u001b[0m                                      self.verbose)\n",
      "\u001b[0;32m~/opt/anaconda3/lib/python3.8/site-packages/mgwr/search.py\u001b[0m in \u001b[0;36mgolden_section\u001b[0;34m(a, c, delta, function, tol, max_iter, int_score, verbose)\u001b[0m\n\u001b[1;32m     60\u001b[0m             \u001b[0mscore_b\u001b[0m \u001b[0;34m=\u001b[0m \u001b[0mdict\u001b[0m\u001b[0;34m[\u001b[0m\u001b[0mb\u001b[0m\u001b[0;34m]\u001b[0m\u001b[0;34m\u001b[0m\u001b[0;34m\u001b[0m\u001b[0m\n\u001b[1;32m     61\u001b[0m         \u001b[0;32melse\u001b[0m\u001b[0;34m:\u001b[0m\u001b[0;34m\u001b[0m\u001b[0;34m\u001b[0m\u001b[0m\n\u001b[0;32m---> 62\u001b[0;31m             \u001b[0mscore_b\u001b[0m \u001b[0;34m=\u001b[0m \u001b[0mfunction\u001b[0m\u001b[0;34m(\u001b[0m\u001b[0mb\u001b[0m\u001b[0;34m)\u001b[0m\u001b[0;34m\u001b[0m\u001b[0;34m\u001b[0m\u001b[0m\n\u001b[0m\u001b[1;32m     63\u001b[0m             \u001b[0mdict\u001b[0m\u001b[0;34m[\u001b[0m\u001b[0mb\u001b[0m\u001b[0;34m]\u001b[0m \u001b[0;34m=\u001b[0m \u001b[0mscore_b\u001b[0m\u001b[0;34m\u001b[0m\u001b[0;34m\u001b[0m\u001b[0m\n\u001b[1;32m     64\u001b[0m             \u001b[0;32mif\u001b[0m \u001b[0mverbose\u001b[0m\u001b[0;34m:\u001b[0m\u001b[0;34m\u001b[0m\u001b[0;34m\u001b[0m\u001b[0m\n",
      "\u001b[0;32m~/opt/anaconda3/lib/python3.8/site-packages/mgwr/sel_bw.py\u001b[0m in \u001b[0;36m<lambda>\u001b[0;34m(bw)\u001b[0m\n\u001b[1;32m    324\u001b[0m \u001b[0;34m\u001b[0m\u001b[0m\n\u001b[1;32m    325\u001b[0m     \u001b[0;32mdef\u001b[0m \u001b[0m_bw\u001b[0m\u001b[0;34m(\u001b[0m\u001b[0mself\u001b[0m\u001b[0;34m)\u001b[0m\u001b[0;34m:\u001b[0m\u001b[0;34m\u001b[0m\u001b[0;34m\u001b[0m\u001b[0m\n\u001b[0;32m--> 326\u001b[0;31m         gwr_func = lambda bw: getDiag[self.criterion](GWR(\n\u001b[0m\u001b[1;32m    327\u001b[0m             \u001b[0mself\u001b[0m\u001b[0;34m.\u001b[0m\u001b[0mcoords\u001b[0m\u001b[0;34m,\u001b[0m \u001b[0mself\u001b[0m\u001b[0;34m.\u001b[0m\u001b[0my\u001b[0m\u001b[0;34m,\u001b[0m \u001b[0mself\u001b[0m\u001b[0;34m.\u001b[0m\u001b[0mX_loc\u001b[0m\u001b[0;34m,\u001b[0m \u001b[0mbw\u001b[0m\u001b[0;34m,\u001b[0m \u001b[0mfamily\u001b[0m\u001b[0;34m=\u001b[0m\u001b[0mself\u001b[0m\u001b[0;34m.\u001b[0m\u001b[0mfamily\u001b[0m\u001b[0;34m,\u001b[0m \u001b[0mkernel\u001b[0m\u001b[0;34m=\u001b[0m\u001b[0;34m\u001b[0m\u001b[0;34m\u001b[0m\u001b[0m\n\u001b[1;32m    328\u001b[0m             \u001b[0mself\u001b[0m\u001b[0;34m.\u001b[0m\u001b[0mkernel\u001b[0m\u001b[0;34m,\u001b[0m \u001b[0mfixed\u001b[0m\u001b[0;34m=\u001b[0m\u001b[0mself\u001b[0m\u001b[0;34m.\u001b[0m\u001b[0mfixed\u001b[0m\u001b[0;34m,\u001b[0m \u001b[0mconstant\u001b[0m\u001b[0;34m=\u001b[0m\u001b[0mself\u001b[0m\u001b[0;34m.\u001b[0m\u001b[0mconstant\u001b[0m\u001b[0;34m,\u001b[0m \u001b[0moffset\u001b[0m\u001b[0;34m=\u001b[0m\u001b[0mself\u001b[0m\u001b[0;34m.\u001b[0m\u001b[0;34m\u001b[0m\u001b[0;34m\u001b[0m\u001b[0m\n",
      "\u001b[0;32m~/opt/anaconda3/lib/python3.8/site-packages/mgwr/gwr.py\u001b[0m in \u001b[0;36mfit\u001b[0;34m(self, ini_params, tol, max_iter, solve, lite, pool)\u001b[0m\n\u001b[1;32m    333\u001b[0m                 \u001b[0mrslt\u001b[0m \u001b[0;34m=\u001b[0m \u001b[0mmap\u001b[0m\u001b[0;34m(\u001b[0m\u001b[0mself\u001b[0m\u001b[0;34m.\u001b[0m\u001b[0m_local_fit\u001b[0m\u001b[0;34m,\u001b[0m \u001b[0mrange\u001b[0m\u001b[0;34m(\u001b[0m\u001b[0mm\u001b[0m\u001b[0;34m)\u001b[0m\u001b[0;34m)\u001b[0m  \u001b[0;31m#sequential\u001b[0m\u001b[0;34m\u001b[0m\u001b[0;34m\u001b[0m\u001b[0m\n\u001b[1;32m    334\u001b[0m \u001b[0;34m\u001b[0m\u001b[0m\n\u001b[0;32m--> 335\u001b[0;31m             \u001b[0mrslt_list\u001b[0m \u001b[0;34m=\u001b[0m \u001b[0mlist\u001b[0m\u001b[0;34m(\u001b[0m\u001b[0mzip\u001b[0m\u001b[0;34m(\u001b[0m\u001b[0;34m*\u001b[0m\u001b[0mrslt\u001b[0m\u001b[0;34m)\u001b[0m\u001b[0;34m)\u001b[0m\u001b[0;34m\u001b[0m\u001b[0;34m\u001b[0m\u001b[0m\n\u001b[0m\u001b[1;32m    336\u001b[0m             \u001b[0minflu\u001b[0m \u001b[0;34m=\u001b[0m \u001b[0mnp\u001b[0m\u001b[0;34m.\u001b[0m\u001b[0marray\u001b[0m\u001b[0;34m(\u001b[0m\u001b[0mrslt_list\u001b[0m\u001b[0;34m[\u001b[0m\u001b[0;36m0\u001b[0m\u001b[0;34m]\u001b[0m\u001b[0;34m)\u001b[0m\u001b[0;34m.\u001b[0m\u001b[0mreshape\u001b[0m\u001b[0;34m(\u001b[0m\u001b[0;34m-\u001b[0m\u001b[0;36m1\u001b[0m\u001b[0;34m,\u001b[0m \u001b[0;36m1\u001b[0m\u001b[0;34m)\u001b[0m\u001b[0;34m\u001b[0m\u001b[0;34m\u001b[0m\u001b[0m\n\u001b[1;32m    337\u001b[0m             \u001b[0mresid\u001b[0m \u001b[0;34m=\u001b[0m \u001b[0mnp\u001b[0m\u001b[0;34m.\u001b[0m\u001b[0marray\u001b[0m\u001b[0;34m(\u001b[0m\u001b[0mrslt_list\u001b[0m\u001b[0;34m[\u001b[0m\u001b[0;36m1\u001b[0m\u001b[0;34m]\u001b[0m\u001b[0;34m)\u001b[0m\u001b[0;34m.\u001b[0m\u001b[0mreshape\u001b[0m\u001b[0;34m(\u001b[0m\u001b[0;34m-\u001b[0m\u001b[0;36m1\u001b[0m\u001b[0;34m,\u001b[0m \u001b[0;36m1\u001b[0m\u001b[0;34m)\u001b[0m\u001b[0;34m\u001b[0m\u001b[0;34m\u001b[0m\u001b[0m\n",
      "\u001b[0;32m~/opt/anaconda3/lib/python3.8/site-packages/mgwr/gwr.py\u001b[0m in \u001b[0;36m_local_fit\u001b[0;34m(self, i)\u001b[0m\n\u001b[1;32m    246\u001b[0m         \u001b[0mLocal\u001b[0m \u001b[0mfitting\u001b[0m \u001b[0mat\u001b[0m \u001b[0mlocation\u001b[0m \u001b[0mi\u001b[0m\u001b[0;34m.\u001b[0m\u001b[0;34m\u001b[0m\u001b[0;34m\u001b[0m\u001b[0m\n\u001b[1;32m    247\u001b[0m         \"\"\"\n\u001b[0;32m--> 248\u001b[0;31m         \u001b[0mwi\u001b[0m \u001b[0;34m=\u001b[0m \u001b[0mself\u001b[0m\u001b[0;34m.\u001b[0m\u001b[0m_build_wi\u001b[0m\u001b[0;34m(\u001b[0m\u001b[0mi\u001b[0m\u001b[0;34m,\u001b[0m \u001b[0mself\u001b[0m\u001b[0;34m.\u001b[0m\u001b[0mbw\u001b[0m\u001b[0;34m)\u001b[0m\u001b[0;34m.\u001b[0m\u001b[0mreshape\u001b[0m\u001b[0;34m(\u001b[0m\u001b[0;34m-\u001b[0m\u001b[0;36m1\u001b[0m\u001b[0;34m,\u001b[0m \u001b[0;36m1\u001b[0m\u001b[0;34m)\u001b[0m  \u001b[0;31m#local spatial weights\u001b[0m\u001b[0;34m\u001b[0m\u001b[0;34m\u001b[0m\u001b[0m\n\u001b[0m\u001b[1;32m    249\u001b[0m \u001b[0;34m\u001b[0m\u001b[0m\n\u001b[1;32m    250\u001b[0m         \u001b[0;32mif\u001b[0m \u001b[0misinstance\u001b[0m\u001b[0;34m(\u001b[0m\u001b[0mself\u001b[0m\u001b[0;34m.\u001b[0m\u001b[0mfamily\u001b[0m\u001b[0;34m,\u001b[0m \u001b[0mGaussian\u001b[0m\u001b[0;34m)\u001b[0m\u001b[0;34m:\u001b[0m\u001b[0;34m\u001b[0m\u001b[0;34m\u001b[0m\u001b[0m\n",
      "\u001b[0;32m~/opt/anaconda3/lib/python3.8/site-packages/mgwr/gwr.py\u001b[0m in \u001b[0;36m_build_wi\u001b[0;34m(self, i, bw)\u001b[0m\n\u001b[1;32m    234\u001b[0m \u001b[0;34m\u001b[0m\u001b[0m\n\u001b[1;32m    235\u001b[0m         \u001b[0;32mtry\u001b[0m\u001b[0;34m:\u001b[0m\u001b[0;34m\u001b[0m\u001b[0;34m\u001b[0m\u001b[0m\n\u001b[0;32m--> 236\u001b[0;31m             wi = Kernel(i, self.coords, bw, fixed=self.fixed,\n\u001b[0m\u001b[1;32m    237\u001b[0m                         \u001b[0mfunction\u001b[0m\u001b[0;34m=\u001b[0m\u001b[0mself\u001b[0m\u001b[0;34m.\u001b[0m\u001b[0mkernel\u001b[0m\u001b[0;34m,\u001b[0m \u001b[0mpoints\u001b[0m\u001b[0;34m=\u001b[0m\u001b[0mself\u001b[0m\u001b[0;34m.\u001b[0m\u001b[0mpoints\u001b[0m\u001b[0;34m,\u001b[0m\u001b[0;34m\u001b[0m\u001b[0;34m\u001b[0m\u001b[0m\n\u001b[1;32m    238\u001b[0m                         spherical=self.spherical).kernel\n",
      "\u001b[0;32m~/opt/anaconda3/lib/python3.8/site-packages/mgwr/kernels.py\u001b[0m in \u001b[0;36m__init__\u001b[0;34m(self, i, data, bw, fixed, function, eps, ids, points, spherical)\u001b[0m\n\u001b[1;32m     45\u001b[0m \u001b[0;34m\u001b[0m\u001b[0m\n\u001b[1;32m     46\u001b[0m         \u001b[0;32mif\u001b[0m \u001b[0mpoints\u001b[0m \u001b[0;32mis\u001b[0m \u001b[0;32mNone\u001b[0m\u001b[0;34m:\u001b[0m\u001b[0;34m\u001b[0m\u001b[0;34m\u001b[0m\u001b[0m\n\u001b[0;32m---> 47\u001b[0;31m             \u001b[0mself\u001b[0m\u001b[0;34m.\u001b[0m\u001b[0mdvec\u001b[0m \u001b[0;34m=\u001b[0m \u001b[0mlocal_cdist\u001b[0m\u001b[0;34m(\u001b[0m\u001b[0mdata\u001b[0m\u001b[0;34m[\u001b[0m\u001b[0mi\u001b[0m\u001b[0;34m]\u001b[0m\u001b[0;34m,\u001b[0m \u001b[0mdata\u001b[0m\u001b[0;34m,\u001b[0m \u001b[0mspherical\u001b[0m\u001b[0;34m)\u001b[0m\u001b[0;34m.\u001b[0m\u001b[0mreshape\u001b[0m\u001b[0;34m(\u001b[0m\u001b[0;34m-\u001b[0m\u001b[0;36m1\u001b[0m\u001b[0;34m)\u001b[0m\u001b[0;34m\u001b[0m\u001b[0;34m\u001b[0m\u001b[0m\n\u001b[0m\u001b[1;32m     48\u001b[0m         \u001b[0;32melse\u001b[0m\u001b[0;34m:\u001b[0m\u001b[0;34m\u001b[0m\u001b[0;34m\u001b[0m\u001b[0m\n\u001b[1;32m     49\u001b[0m             \u001b[0mself\u001b[0m\u001b[0;34m.\u001b[0m\u001b[0mdvec\u001b[0m \u001b[0;34m=\u001b[0m \u001b[0mlocal_cdist\u001b[0m\u001b[0;34m(\u001b[0m\u001b[0mpoints\u001b[0m\u001b[0;34m[\u001b[0m\u001b[0mi\u001b[0m\u001b[0;34m]\u001b[0m\u001b[0;34m,\u001b[0m \u001b[0mdata\u001b[0m\u001b[0;34m,\u001b[0m \u001b[0mspherical\u001b[0m\u001b[0;34m)\u001b[0m\u001b[0;34m.\u001b[0m\u001b[0mreshape\u001b[0m\u001b[0;34m(\u001b[0m\u001b[0;34m-\u001b[0m\u001b[0;36m1\u001b[0m\u001b[0;34m)\u001b[0m\u001b[0;34m\u001b[0m\u001b[0;34m\u001b[0m\u001b[0m\n",
      "\u001b[0;31mKeyboardInterrupt\u001b[0m: "
     ]
    }
   ],
   "source": [
    "selector = Sel_BW(coords, y, X, multi=True, spherical=True)\n",
    "selector.search(search_method = 'golden_section', verbose=True)\n",
    "\n",
    "MGWRmodel = MGWR(coords, y, X,\n",
    "             selector=selector,\n",
    "             fixed=False,\n",
    "             spherical=True)\n",
    "\n",
    "results = model.fit()"
   ]
  },
  {
   "cell_type": "code",
   "execution_count": 41,
   "id": "b3dff49f",
   "metadata": {},
   "outputs": [
    {
     "name": "stdout",
     "output_type": "stream",
     "text": [
      "===========================================================================\n",
      "Model type                                                         Gaussian\n",
      "Number of observations:                                                8296\n",
      "Number of covariates:                                                     2\n",
      "\n",
      "Global Regression Results\n",
      "---------------------------------------------------------------------------\n",
      "Residual sum of squares:                                        2023024.250\n",
      "Log-likelihood:                                                  -34571.309\n",
      "AIC:                                                              69146.617\n",
      "AICc:                                                             69148.620\n",
      "BIC:                                                            1948183.102\n",
      "R2:                                                                   0.003\n",
      "Adj. R2:                                                              0.003\n",
      "\n",
      "Variable                              Est.         SE  t(Est/SE)    p-value\n",
      "------------------------------- ---------- ---------- ---------- ----------\n",
      "X0                                   4.254      0.190     22.373      0.000\n",
      "X1                                  -0.064      0.012     -5.387      0.000\n",
      "\n",
      "Geographically Weighted Regression (GWR) Results\n",
      "---------------------------------------------------------------------------\n",
      "Spatial kernel:                                           Adaptive bisquare\n",
      "Bandwidth used:                                                      90.000\n",
      "\n",
      "Diagnostic information\n",
      "---------------------------------------------------------------------------\n",
      "Residual sum of squares:                                        1782035.392\n",
      "Effective number of parameters (trace(S)):                          466.687\n",
      "Degree of freedom (n - trace(S)):                                  7829.313\n",
      "Sigma estimate:                                                      15.087\n",
      "Log-likelihood:                                                  -34045.187\n",
      "AIC:                                                              69025.748\n",
      "AICc:                                                             69081.757\n",
      "BIC:                                                              72310.560\n",
      "R2:                                                                   0.122\n",
      "Adjusted R2:                                                          0.070\n",
      "Adj. alpha (95%):                                                     0.000\n",
      "Adj. critical t value (95%):                                          3.703\n",
      "\n",
      "Summary Statistics For GWR Parameter Estimates\n",
      "---------------------------------------------------------------------------\n",
      "Variable                   Mean        STD        Min     Median        Max\n",
      "-------------------- ---------- ---------- ---------- ---------- ----------\n",
      "X0                        4.576      4.029     -1.078      3.511     35.525\n",
      "X1                       -0.154      0.281     -3.199     -0.088      1.151\n",
      "===========================================================================\n",
      "\n"
     ]
    }
   ],
   "source": [
    "results.summary()"
   ]
  },
  {
   "cell_type": "code",
   "execution_count": 52,
   "id": "16ab322b",
   "metadata": {},
   "outputs": [
    {
     "name": "stdout",
     "output_type": "stream",
     "text": [
      "[[-0.48373424]\n",
      " [-0.80068649]\n",
      " [-0.76546957]\n",
      " [-0.27243275]\n",
      " [ 0.41429712]\n",
      " [-0.80068649]\n",
      " [-0.30764966]\n",
      " [-0.34286658]\n",
      " [-0.58938499]\n",
      " [-0.60699345]\n",
      " [ 1.06581006]\n",
      " [-0.11395662]\n",
      " [-0.90633724]\n",
      " [-0.32525812]\n",
      " [ 0.15017025]\n",
      " [ 1.57645534]\n",
      " [-0.23721583]\n",
      " [-0.65981882]\n",
      " [-0.14917354]\n",
      " [ 0.44951403]\n",
      " [-0.18439046]\n",
      " [ 0.18538716]\n",
      " [-0.5013427 ]\n",
      " [-0.80068649]\n",
      " [ 1.34754539]\n",
      " [ 1.62928072]\n",
      " [-0.88872878]\n",
      " [ 1.31232847]\n",
      " [ 4.67554395]\n",
      " [ 0.0445195 ]\n",
      " [ 0.66081553]\n",
      " [-0.74786111]\n",
      " [ 3.88316334]\n",
      " [ 0.02691104]\n",
      " [-0.166782  ]\n",
      " [ 2.28079367]\n",
      " [-0.78307803]\n",
      " [ 0.41429712]\n",
      " [-0.92394569]\n",
      " [-0.166782  ]\n",
      " [-0.51895116]\n",
      " [-0.41330041]\n",
      " [ 0.13256179]\n",
      " [ 3.83033797]\n",
      " [-0.51895116]\n",
      " [-0.25482429]\n",
      " [ 1.06581006]\n",
      " [ 0.18538716]\n",
      " [-0.27243275]\n",
      " [-1.10003027]\n",
      " [-0.58938499]\n",
      " [-0.51895116]\n",
      " [-0.32525812]\n",
      " [-0.41330041]\n",
      " [-0.55416807]\n",
      " [ 2.61535437]\n",
      " [ 0.48473095]\n",
      " [ 0.81929165]\n",
      " [-0.25482429]\n",
      " [ 3.63664493]\n",
      " [-0.41330041]\n",
      " [-0.99437953]\n",
      " [ 1.57645534]\n",
      " [-0.30764966]\n",
      " [-0.57177653]\n",
      " [-0.37808349]\n",
      " [ 3.28447577]\n",
      " [ 0.18538716]\n",
      " [ 0.78407473]\n",
      " [-0.73025265]\n",
      " [-0.60699345]\n",
      " [ 0.46712249]\n",
      " [-0.32525812]\n",
      " [-0.92394569]\n",
      " [-0.04352279]\n",
      " [ 0.88972548]\n",
      " [-0.46612578]\n",
      " [-0.34286658]\n",
      " [-0.02591433]\n",
      " [-0.46612578]\n",
      " [-0.8359034 ]\n",
      " [-0.57177653]\n",
      " [-1.06481336]\n",
      " [ 0.18538716]\n",
      " [-0.166782  ]\n",
      " [-0.97677107]\n",
      " [ 0.18538716]\n",
      " [ 0.48473095]\n",
      " [ 0.43190557]\n",
      " [-0.48373424]\n",
      " [-1.01198798]\n",
      " [ 0.94255086]\n",
      " [ 0.02691104]\n",
      " [-0.09634817]\n",
      " [-0.39569195]\n",
      " [-0.14917354]\n",
      " [-0.21960737]\n",
      " [-1.11763873]\n",
      " [-0.74786111]\n",
      " [-0.48373424]\n",
      " [-0.55416807]\n",
      " [ 0.34386328]\n",
      " [-0.14917354]\n",
      " [ 0.00930258]\n",
      " [-0.95916261]\n",
      " [ 0.99537623]\n",
      " [-0.25482429]\n",
      " [ 3.07317428]\n",
      " [ 0.32625483]\n",
      " [-0.58938499]\n",
      " [ 0.74885782]\n",
      " [-0.34286658]\n",
      " [-0.81829494]\n",
      " [-0.2900412 ]\n",
      " [-0.73025265]\n",
      " [-0.04352279]\n",
      " [ 0.13256179]\n",
      " [-0.64221036]\n",
      " [ 0.11495333]\n",
      " [-0.87112032]\n",
      " [ 1.11863544]\n",
      " [ 1.2595031 ]\n",
      " [-0.51895116]\n",
      " [-0.41330041]\n",
      " [-0.55416807]\n",
      " [ 0.02691104]\n",
      " [ 0.3790802 ]\n",
      " [-0.51895116]\n",
      " [ 0.87211702]\n",
      " [-0.67742728]\n",
      " [-0.94155415]\n",
      " [-0.78307803]\n",
      " [-0.67742728]\n",
      " [-0.41330041]\n",
      " [-0.30764966]\n",
      " [ 0.43190557]\n",
      " [ 0.53755632]\n",
      " [ 0.07973641]\n",
      " [ 0.07973641]\n",
      " [-0.81829494]\n",
      " [ 0.46712249]\n",
      " [-0.65981882]\n",
      " [-1.08242182]\n",
      " [-0.14917354]\n",
      " [-0.34286658]\n",
      " [-0.44851733]\n",
      " [-0.27243275]\n",
      " [-0.09634817]\n",
      " [-1.18807256]\n",
      " [-0.20199891]\n",
      " [-0.23721583]\n",
      " [-0.95916261]\n",
      " [-0.41330041]\n",
      " [ 0.46712249]\n",
      " [ 0.18538716]\n",
      " [-0.58938499]\n",
      " [-0.09634817]\n",
      " [-0.37808349]\n",
      " [-0.81829494]]\n",
      "<mgwr.sel_bw.Sel_BW object at 0x7fb8a4054d30>\n"
     ]
    }
   ],
   "source": [
    "import libpysal as ps\n",
    "from mgwr.gwr import MGWR\n",
    "from mgwr.sel_bw import Sel_BW\n",
    "data = ps.io.open(ps.examples.get_path('GData_utm.csv'))\n",
    "coords = list(zip(data.by_col('X'), data.by_col('Y')))\n",
    "y = np.array(data.by_col('PctBach')).reshape((-1,1))\n",
    "rural = np.array(data.by_col('PctRural')).reshape((-1,1))\n",
    "fb = np.array(data.by_col('PctFB')).reshape((-1,1))\n",
    "african_amer = np.array(data.by_col('PctBlack')).reshape((-1,1))\n",
    "X = np.hstack([fb, african_amer, rural])\n",
    "X = (X - X.mean(axis=0)) / X.std(axis=0)\n",
    "y = (y - y.mean(axis=0)) / y.std(axis=0)\n",
    "print(y)\n",
    "selector = Sel_BW(coords, y, X, multi=True)\n",
    "print(selector)\n",
    "# selector.search(multi_bw_min=[2])\n",
    "# model = MGWR(coords, y, X, selector, fixed=False, kernel='bisquare', sigma2_v1=True)\n",
    "# results = model.fit()\n",
    "# print(results.params.shape)\n"
   ]
  }
 ],
 "metadata": {
  "kernelspec": {
   "display_name": "Python 3",
   "language": "python",
   "name": "python3"
  },
  "language_info": {
   "codemirror_mode": {
    "name": "ipython",
    "version": 3
   },
   "file_extension": ".py",
   "mimetype": "text/x-python",
   "name": "python",
   "nbconvert_exporter": "python",
   "pygments_lexer": "ipython3",
   "version": "3.8.8"
  },
  "toc": {
   "base_numbering": 1,
   "nav_menu": {},
   "number_sections": true,
   "sideBar": true,
   "skip_h1_title": false,
   "title_cell": "Table of Contents",
   "title_sidebar": "Contents",
   "toc_cell": false,
   "toc_position": {},
   "toc_section_display": true,
   "toc_window_display": false
  }
 },
 "nbformat": 4,
 "nbformat_minor": 5
}
