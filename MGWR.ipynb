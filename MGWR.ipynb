{
 "cells": [
  {
   "cell_type": "code",
   "execution_count": 12,
   "id": "460e7495",
   "metadata": {},
   "outputs": [
    {
     "name": "stdout",
     "output_type": "stream",
     "text": [
      "Requirement already satisfied: mgwr in /Users/balechen/opt/anaconda3/lib/python3.8/site-packages (2.1.2)\n",
      "Requirement already satisfied: spglm>=1.0.6 in /Users/balechen/opt/anaconda3/lib/python3.8/site-packages (from mgwr) (1.0.8)\n",
      "Requirement already satisfied: libpysal>=4.0.0 in /Users/balechen/opt/anaconda3/lib/python3.8/site-packages (from mgwr) (4.6.2)\n",
      "Requirement already satisfied: numpy>=1.3 in /Users/balechen/opt/anaconda3/lib/python3.8/site-packages (from mgwr) (1.20.1)\n",
      "Requirement already satisfied: spreg in /Users/balechen/opt/anaconda3/lib/python3.8/site-packages (from mgwr) (1.2.4)\n",
      "Requirement already satisfied: scipy>=0.11 in /Users/balechen/opt/anaconda3/lib/python3.8/site-packages (from mgwr) (1.6.2)\n",
      "Requirement already satisfied: packaging in /Users/balechen/opt/anaconda3/lib/python3.8/site-packages (from libpysal>=4.0.0->mgwr) (20.9)\n",
      "Requirement already satisfied: appdirs in /Users/balechen/opt/anaconda3/lib/python3.8/site-packages (from libpysal>=4.0.0->mgwr) (1.4.4)\n",
      "Requirement already satisfied: pandas in /Users/balechen/opt/anaconda3/lib/python3.8/site-packages (from libpysal>=4.0.0->mgwr) (1.2.4)\n",
      "Requirement already satisfied: requests in /Users/balechen/opt/anaconda3/lib/python3.8/site-packages (from libpysal>=4.0.0->mgwr) (2.25.1)\n",
      "Requirement already satisfied: jinja2 in /Users/balechen/opt/anaconda3/lib/python3.8/site-packages (from libpysal>=4.0.0->mgwr) (2.11.3)\n",
      "Requirement already satisfied: beautifulsoup4 in /Users/balechen/opt/anaconda3/lib/python3.8/site-packages (from libpysal>=4.0.0->mgwr) (4.9.3)\n",
      "Requirement already satisfied: soupsieve>1.2 in /Users/balechen/opt/anaconda3/lib/python3.8/site-packages (from beautifulsoup4->libpysal>=4.0.0->mgwr) (2.2.1)\n",
      "Requirement already satisfied: MarkupSafe>=0.23 in /Users/balechen/opt/anaconda3/lib/python3.8/site-packages (from jinja2->libpysal>=4.0.0->mgwr) (1.1.1)\n",
      "Requirement already satisfied: pyparsing>=2.0.2 in /Users/balechen/opt/anaconda3/lib/python3.8/site-packages (from packaging->libpysal>=4.0.0->mgwr) (2.4.7)\n",
      "Requirement already satisfied: python-dateutil>=2.7.3 in /Users/balechen/opt/anaconda3/lib/python3.8/site-packages (from pandas->libpysal>=4.0.0->mgwr) (2.8.1)\n",
      "Requirement already satisfied: pytz>=2017.3 in /Users/balechen/opt/anaconda3/lib/python3.8/site-packages (from pandas->libpysal>=4.0.0->mgwr) (2021.1)\n",
      "Requirement already satisfied: six>=1.5 in /Users/balechen/opt/anaconda3/lib/python3.8/site-packages (from python-dateutil>=2.7.3->pandas->libpysal>=4.0.0->mgwr) (1.15.0)\n",
      "Requirement already satisfied: idna<3,>=2.5 in /Users/balechen/opt/anaconda3/lib/python3.8/site-packages (from requests->libpysal>=4.0.0->mgwr) (2.10)\n",
      "Requirement already satisfied: certifi>=2017.4.17 in /Users/balechen/opt/anaconda3/lib/python3.8/site-packages (from requests->libpysal>=4.0.0->mgwr) (2020.12.5)\n",
      "Requirement already satisfied: urllib3<1.27,>=1.21.1 in /Users/balechen/opt/anaconda3/lib/python3.8/site-packages (from requests->libpysal>=4.0.0->mgwr) (1.26.4)\n",
      "Requirement already satisfied: chardet<5,>=3.0.2 in /Users/balechen/opt/anaconda3/lib/python3.8/site-packages (from requests->libpysal>=4.0.0->mgwr) (4.0.0)\n",
      "Note: you may need to restart the kernel to use updated packages.\n"
     ]
    }
   ],
   "source": [
    "pip install -U mgwr"
   ]
  },
  {
   "cell_type": "code",
   "execution_count": 14,
   "id": "85f9b764",
   "metadata": {},
   "outputs": [],
   "source": [
    "import pandas as pd\n",
    "import libpysal as ps\n",
    "import mgwr"
   ]
  },
  {
   "cell_type": "code",
   "execution_count": 33,
   "id": "cf26e0c0",
   "metadata": {},
   "outputs": [
    {
     "name": "stdout",
     "output_type": "stream",
     "text": [
      "<class 'pandas.core.frame.DataFrame'>\n",
      "RangeIndex: 8296 entries, 0 to 8295\n",
      "Data columns (total 10 columns):\n",
      " #   Column     Non-Null Count  Dtype  \n",
      "---  ------     --------------  -----  \n",
      " 0   No.        8296 non-null   int64  \n",
      " 1   Name       8296 non-null   object \n",
      " 2   Webpage    8296 non-null   object \n",
      " 3   Address    8296 non-null   object \n",
      " 4   Brand      8296 non-null   object \n",
      " 5   Num_of_DC  8296 non-null   int64  \n",
      " 6   Num_of_AC  8296 non-null   int64  \n",
      " 7   Type       8296 non-null   object \n",
      " 8   lng        8296 non-null   float64\n",
      " 9   lat        8296 non-null   float64\n",
      "dtypes: float64(2), int64(3), object(5)\n",
      "memory usage: 648.2+ KB\n"
     ]
    }
   ],
   "source": [
    "df = pd.read_excel('charging station.xls')\n",
    "df.info()\n"
   ]
  },
  {
   "cell_type": "code",
   "execution_count": 16,
   "id": "9b8c8538",
   "metadata": {},
   "outputs": [],
   "source": [
    "from mgwr.gwr import GWR"
   ]
  },
  {
   "cell_type": "code",
   "execution_count": 34,
   "id": "a63aa3d2",
   "metadata": {},
   "outputs": [],
   "source": [
    "coord = list(zip(df.lng, df.lat))\n",
    "X = df.Num_of_DC.to_numpy().reshape((-1,1))\n",
    "y = df.Num_of_AC.to_numpy().reshape((-1,1))\n",
    "\n",
    "model = GWR(coord, X, y, bw = 90.000, spherical=True)\n",
    "\n",
    "results = model.fit()"
   ]
  },
  {
   "cell_type": "code",
   "execution_count": 41,
   "id": "b3dff49f",
   "metadata": {},
   "outputs": [
    {
     "name": "stdout",
     "output_type": "stream",
     "text": [
      "===========================================================================\n",
      "Model type                                                         Gaussian\n",
      "Number of observations:                                                8296\n",
      "Number of covariates:                                                     2\n",
      "\n",
      "Global Regression Results\n",
      "---------------------------------------------------------------------------\n",
      "Residual sum of squares:                                        2023024.250\n",
      "Log-likelihood:                                                  -34571.309\n",
      "AIC:                                                              69146.617\n",
      "AICc:                                                             69148.620\n",
      "BIC:                                                            1948183.102\n",
      "R2:                                                                   0.003\n",
      "Adj. R2:                                                              0.003\n",
      "\n",
      "Variable                              Est.         SE  t(Est/SE)    p-value\n",
      "------------------------------- ---------- ---------- ---------- ----------\n",
      "X0                                   4.254      0.190     22.373      0.000\n",
      "X1                                  -0.064      0.012     -5.387      0.000\n",
      "\n",
      "Geographically Weighted Regression (GWR) Results\n",
      "---------------------------------------------------------------------------\n",
      "Spatial kernel:                                           Adaptive bisquare\n",
      "Bandwidth used:                                                      90.000\n",
      "\n",
      "Diagnostic information\n",
      "---------------------------------------------------------------------------\n",
      "Residual sum of squares:                                        1782035.392\n",
      "Effective number of parameters (trace(S)):                          466.687\n",
      "Degree of freedom (n - trace(S)):                                  7829.313\n",
      "Sigma estimate:                                                      15.087\n",
      "Log-likelihood:                                                  -34045.187\n",
      "AIC:                                                              69025.748\n",
      "AICc:                                                             69081.757\n",
      "BIC:                                                              72310.560\n",
      "R2:                                                                   0.122\n",
      "Adjusted R2:                                                          0.070\n",
      "Adj. alpha (95%):                                                     0.000\n",
      "Adj. critical t value (95%):                                          3.703\n",
      "\n",
      "Summary Statistics For GWR Parameter Estimates\n",
      "---------------------------------------------------------------------------\n",
      "Variable                   Mean        STD        Min     Median        Max\n",
      "-------------------- ---------- ---------- ---------- ---------- ----------\n",
      "X0                        4.576      4.029     -1.078      3.511     35.525\n",
      "X1                       -0.154      0.281     -3.199     -0.088      1.151\n",
      "===========================================================================\n",
      "\n"
     ]
    }
   ],
   "source": [
    "results.summary()"
   ]
  }
 ],
 "metadata": {
  "kernelspec": {
   "display_name": "Python 3",
   "language": "python",
   "name": "python3"
  },
  "language_info": {
   "codemirror_mode": {
    "name": "ipython",
    "version": 3
   },
   "file_extension": ".py",
   "mimetype": "text/x-python",
   "name": "python",
   "nbconvert_exporter": "python",
   "pygments_lexer": "ipython3",
   "version": "3.8.8"
  },
  "toc": {
   "base_numbering": 1,
   "nav_menu": {},
   "number_sections": true,
   "sideBar": true,
   "skip_h1_title": false,
   "title_cell": "Table of Contents",
   "title_sidebar": "Contents",
   "toc_cell": false,
   "toc_position": {},
   "toc_section_display": true,
   "toc_window_display": false
  }
 },
 "nbformat": 4,
 "nbformat_minor": 5
}
